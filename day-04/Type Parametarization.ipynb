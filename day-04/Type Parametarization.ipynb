{
 "cells": [
  {
   "cell_type": "code",
   "execution_count": 1,
   "metadata": {
    "collapsed": false
   },
   "outputs": [
    {
     "data": {
      "text/plain": [
       "defined \u001b[32mclass \u001b[36mTypeClass\u001b[0m"
      ]
     },
     "metadata": {},
     "output_type": "display_data"
    }
   ],
   "source": [
    "class TypeClass[T]"
   ]
  },
  {
   "cell_type": "code",
   "execution_count": 2,
   "metadata": {
    "collapsed": false
   },
   "outputs": [
    {
     "data": {
      "text/plain": [
       "defined \u001b[32mclass \u001b[36mParentClass\u001b[0m\n",
       "defined \u001b[32mclass \u001b[36mchildClass\u001b[0m\n",
       "defined \u001b[32mclass \u001b[36mTypeClass\u001b[0m\n",
       "\u001b[36mp\u001b[0m: \u001b[32m$user\u001b[0m.\u001b[32mTypeClass\u001b[0m[\u001b[32m$user\u001b[0m.\u001b[32mParentClass\u001b[0m] = cmd1$$user$TypeClass@700801f0\n",
       "\u001b[36mq\u001b[0m: \u001b[32m$user\u001b[0m.\u001b[32mTypeClass\u001b[0m[\u001b[32m$user\u001b[0m.\u001b[32mchildClass\u001b[0m] = cmd1$$user$TypeClass@5dff539f"
      ]
     },
     "metadata": {},
     "output_type": "display_data"
    }
   ],
   "source": [
    "class ParentClass\n",
    "class childClass extends ParentClass\n",
    "\n",
    "class TypeClass[T]\n",
    "val p = new TypeClass[ParentClass]\n",
    "val q = new TypeClass[childClass]"
   ]
  },
  {
   "cell_type": "code",
   "execution_count": 2,
   "metadata": {
    "collapsed": false
   },
   "outputs": [
    {
     "ename": "",
     "evalue": "",
     "output_type": "error",
     "traceback": [
      "\u001b[31mMain.scala:30: type mismatch;",
      " found   : cmd2.this.$ref$cmd1.TypeClass[cmd2.this.$ref$cmd1.childClass]",
      " required: cmd2.this.$ref$cmd1.TypeClass[cmd2.this.$ref$cmd1.ParentClass]",
      "Note: cmd2.this.$ref$cmd1.childClass <: cmd2.this.$ref$cmd1.ParentClass, but class TypeClass is invariant in type T.",
      "You may wish to define T as +T instead. (SLS 4.5)",
      "}.apply",
      "  ^\u001b[0m"
     ]
    }
   ],
   "source": [
    "var pr:TypeClass[ParentClass] = q"
   ]
  },
  {
   "cell_type": "code",
   "execution_count": 3,
   "metadata": {
    "collapsed": false
   },
   "outputs": [
    {
     "data": {
      "text/plain": [
       "defined \u001b[32mclass \u001b[36mTypeClass\u001b[0m"
      ]
     },
     "metadata": {},
     "output_type": "display_data"
    }
   ],
   "source": [
    "class TypeClass[+T]"
   ]
  },
  {
   "cell_type": "code",
   "execution_count": 4,
   "metadata": {
    "collapsed": false
   },
   "outputs": [
    {
     "data": {
      "text/plain": [
       "\u001b[36mp\u001b[0m: \u001b[32mTypeClass\u001b[0m[\u001b[32mParentClass\u001b[0m] = cmd2$$user$TypeClass@44582883\n",
       "\u001b[36mc\u001b[0m: \u001b[32mTypeClass\u001b[0m[\u001b[32mchildClass\u001b[0m] = cmd2$$user$TypeClass@7f3c451\n",
       "\u001b[36mpr\u001b[0m: \u001b[32mTypeClass\u001b[0m[\u001b[32mParentClass\u001b[0m] = cmd2$$user$TypeClass@7f3c451"
      ]
     },
     "metadata": {},
     "output_type": "display_data"
    }
   ],
   "source": [
    "val p = new TypeClass[ParentClass]\n",
    "val c = new TypeClass[childClass]\n",
    "val pr:TypeClass[ParentClass] = c"
   ]
  },
  {
   "cell_type": "code",
   "execution_count": 5,
   "metadata": {
    "collapsed": false
   },
   "outputs": [
    {
     "data": {
      "text/plain": [
       "defined \u001b[32mclass \u001b[36mTypeClass\u001b[0m\n",
       "\u001b[36mp\u001b[0m: \u001b[32m$user\u001b[0m.\u001b[32mTypeClass\u001b[0m[\u001b[32mParentClass\u001b[0m] = cmd4$$user$TypeClass@9d808a\n",
       "\u001b[36mc\u001b[0m: \u001b[32m$user\u001b[0m.\u001b[32mTypeClass\u001b[0m[\u001b[32mchildClass\u001b[0m] = cmd4$$user$TypeClass@7595d4f7\n",
       "\u001b[36mcr\u001b[0m: \u001b[32m$user\u001b[0m.\u001b[32mTypeClass\u001b[0m[\u001b[32mchildClass\u001b[0m] = cmd4$$user$TypeClass@9d808a"
      ]
     },
     "metadata": {},
     "output_type": "display_data"
    }
   ],
   "source": [
    "class TypeClass[-T]\n",
    "val p = new TypeClass[ParentClass]\n",
    "val c = new TypeClass[childClass]\n",
    "val cr:TypeClass[childClass]=p"
   ]
  },
  {
   "cell_type": "code",
   "execution_count": 9,
   "metadata": {
    "collapsed": false
   },
   "outputs": [
    {
     "data": {
      "text/plain": [
       "defined \u001b[32mclass \u001b[36mSomeOtherClass\u001b[0m\n",
       "defined \u001b[32mclass \u001b[36mGreatList\u001b[0m\n",
       "defined \u001b[32mclass \u001b[36msomeList\u001b[0m\n",
       "\u001b[36mc1\u001b[0m: \u001b[32m$user\u001b[0m.\u001b[32mGreatList\u001b[0m[\u001b[32mchildClass\u001b[0m] = cmd8$$user$GreatList@7788fa3a"
      ]
     },
     "metadata": {},
     "output_type": "display_data"
    }
   ],
   "source": [
    "class SomeOtherClass\n",
    "class GreatList[T]{\n",
    " def add[S>:T](n:S)={\n",
    " \n",
    " }\n",
    " def addAlt[S<:T](n:S)={\n",
    " \n",
    " }\n",
    " def altTraitAdd[T<:Ordered[T]](n:T)={\n",
    " \n",
    " }\n",
    "}\n",
    "class someList[T<:Ordered[T]]\n",
    "\n",
    "val c1 = new GreatList[childClass]\n",
    "c1.add(p)\n",
    "c1.add(c)"
   ]
  },
  {
   "cell_type": "code",
   "execution_count": 7,
   "metadata": {
    "collapsed": false
   },
   "outputs": [
    {
     "ename": "",
     "evalue": "",
     "output_type": "error",
     "traceback": [
      "\u001b[31mMain.scala:27: inferred type arguments [cmd7.this.$ref$cmd4.TypeClass[cmd4.INSTANCE.$ref$cmd1.ParentClass]] do not conform to method addAlt's type parameter bounds [S <: cmd6.INSTANCE.$ref$cmd1.childClass]",
      "c1.addAlt(p)",
      "   ^\u001b[0m",
      "\u001b[31mMain.scala:27: type mismatch;",
      " found   : cmd7.this.$ref$cmd4.TypeClass[cmd4.INSTANCE.$ref$cmd1.ParentClass]",
      " required: S",
      "c1.addAlt(p)",
      "          ^\u001b[0m"
     ]
    }
   ],
   "source": [
    "c1.addAlt(p)"
   ]
  },
  {
   "cell_type": "code",
   "execution_count": 12,
   "metadata": {
    "collapsed": false
   },
   "outputs": [
    {
     "data": {
      "text/plain": [
       "defined \u001b[32mclass \u001b[36msomeClass\u001b[0m\n",
       "\u001b[36mc2\u001b[0m: \u001b[32msomeList\u001b[0m[\u001b[32m$user\u001b[0m.\u001b[32msomeClass\u001b[0m] = cmd8$$user$someList@59dcf791"
      ]
     },
     "metadata": {},
     "output_type": "display_data"
    }
   ],
   "source": [
    "class someClass extends Ordered[someClass]\n",
    "{\n",
    "  def compare(test:someClass)={\n",
    "  0\n",
    "  }\n",
    "}\n",
    "val c2= new someList[someClass]\n"
   ]
  },
  {
   "cell_type": "code",
   "execution_count": 13,
   "metadata": {
    "collapsed": false
   },
   "outputs": [
    {
     "data": {
      "text/plain": [
       "\u001b[36mc3\u001b[0m: \u001b[32msomeClass\u001b[0m = cmd11$$user$someClass@6bd2c235"
      ]
     },
     "metadata": {},
     "output_type": "display_data"
    }
   ],
   "source": [
    "val c3 = new someClass()\n",
    "c1.altTraitAdd(c3)"
   ]
  },
  {
   "cell_type": "code",
   "execution_count": null,
   "metadata": {
    "collapsed": true
   },
   "outputs": [],
   "source": []
  }
 ],
 "metadata": {
  "kernelspec": {
   "display_name": "Scala 2.11",
   "language": "scala211",
   "name": "scala211"
  },
  "language_info": {
   "codemirror_mode": "text/x-scala",
   "file_extension": ".scala",
   "mimetype": "text/x-scala",
   "name": "scala211",
   "pygments_lexer": "scala",
   "version": "2.11.7"
  }
 },
 "nbformat": 4,
 "nbformat_minor": 1
}
